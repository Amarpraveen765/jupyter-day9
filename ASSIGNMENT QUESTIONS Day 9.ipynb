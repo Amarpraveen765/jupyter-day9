{
 "cells": [
  {
   "cell_type": "code",
   "execution_count": 1,
   "metadata": {},
   "outputs": [
    {
     "name": "stdout",
     "output_type": "stream",
     "text": [
      "enter a number12\n",
      "89 55 34 21 13 8 5 3 2 1 1 0 "
     ]
    }
   ],
   "source": [
    "# 1.python program to print the fibonacci series in the reverse order\n",
    "def reverseFibonacci(n):\n",
    "    a = 0 \n",
    "    b = 1 \n",
    "    f = [a,b]\n",
    "    for i in range(2, n):   \n",
    "        c= a + b\n",
    "        f.append(c)\n",
    "        a = b\n",
    "        b = c\n",
    "    for i in range(n - 1, -1 , -1):   \n",
    "        print(f[i],end=\" \")\n",
    "n = int(input(\"enter a number\"))        \n",
    "reverseFibonacci(n) \n"
   ]
  },
  {
   "cell_type": "code",
   "execution_count": 2,
   "metadata": {},
   "outputs": [
    {
     "name": "stdout",
     "output_type": "stream",
     "text": [
      "enter the end of series100\n",
      "1 3 9 27 81 "
     ]
    }
   ],
   "source": [
    "# 2. Series Generations 1, 3, 9, 27, 81, ...\n",
    "a = int(input(\"enter the end of series\"))\n",
    "s = 1\n",
    "i = 1\n",
    "while(s <= a):\n",
    "    print(s,end=\" \")\n",
    "    s =s*3\n",
    "    "
   ]
  },
  {
   "cell_type": "code",
   "execution_count": 3,
   "metadata": {},
   "outputs": [
    {
     "name": "stdout",
     "output_type": "stream",
     "text": [
      "enter the end of series500\n",
      "1 2 4 8 16 32 64 128 256 "
     ]
    }
   ],
   "source": [
    "# 3. Series Generations:-  1, 2, 4, 8, 16, 32, 64, 128, 256, ...\n",
    "n = int(input(\"enter the end of series\"))\n",
    "sum = 1\n",
    "i = 1\n",
    "while(sum <= n):\n",
    "    print(sum,end=\" \")\n",
    "    sum =sum * 2\n",
    "    "
   ]
  },
  {
   "cell_type": "code",
   "execution_count": 4,
   "metadata": {},
   "outputs": [
    {
     "name": "stdout",
     "output_type": "stream",
     "text": [
      "enter the end of series600\n",
      "1 3 8 15 27 50 92 169 311 572 1052 "
     ]
    }
   ],
   "source": [
    "# 4. Series Generations:-  1 3 8 15 27 50 92 169 311\n",
    "n = int(input(\"enter the end of series\"))\n",
    "s=0\n",
    "a=1\n",
    "b=3\n",
    "c=4\n",
    "print(a,b,end=\" \")\n",
    "while(s <= n):\n",
    "    s = a+b+c\n",
    "    print(s,end=\" \")\n",
    "    a = b\n",
    "    b = c\n",
    "    c = s\n",
    "\n",
    "            \n",
    "    "
   ]
  },
  {
   "cell_type": "code",
   "execution_count": null,
   "metadata": {},
   "outputs": [
    {
     "name": "stdout",
     "output_type": "stream",
     "text": [
      "enter the end of series600\n",
      "2 15 41 80 132 197 275 366 470 587 717 "
     ]
    }
   ],
   "source": [
    "# 5. Series Generations:-  2 15 41 80 132 197 275 366 470 587\n",
    "n = int(input(\"enter the end of series\"))\n",
    "s=0\n",
    "a=2\n",
    "i=1\n",
    "b=0\n",
    "print(a,end=\" \")\n",
    "while(s <= n):\n",
    "    b =(13*i)\n",
    "    s = a + b\n",
    "    print(s,end=\" \")\n",
    "    a = s\n",
    "    i=i+1"
   ]
  },
  {
   "cell_type": "code",
   "execution_count": null,
   "metadata": {},
   "outputs": [
    {
     "name": "stdout",
     "output_type": "stream",
     "text": [
      "enter the end of series20\n",
      "1 9 17 "
     ]
    }
   ],
   "source": [
    "# 6. Series Generations:-  1,9,17, 33,49,73,97\n",
    "n = int(input(\"enter the end of series\"))\n",
    "s=0\n",
    "a=1\n",
    "i=1\n",
    "b=0\n",
    "d=1\n",
    "print(a,end=\" \")\n",
    "while(s <= n):\n",
    "    while(d <= 2):\n",
    "        b =(8*i)\n",
    "        s = a + b\n",
    "        print(s,end=\" \")\n",
    "        a = s\n",
    "        d = d+1\n",
    "    i = i + 2    \n",
    "        "
   ]
  },
  {
   "cell_type": "code",
   "execution_count": null,
   "metadata": {},
   "outputs": [],
   "source": []
  },
  {
   "cell_type": "code",
   "execution_count": null,
   "metadata": {},
   "outputs": [],
   "source": []
  },
  {
   "cell_type": "code",
   "execution_count": null,
   "metadata": {},
   "outputs": [],
   "source": []
  },
  {
   "cell_type": "code",
   "execution_count": null,
   "metadata": {},
   "outputs": [],
   "source": []
  },
  {
   "cell_type": "code",
   "execution_count": null,
   "metadata": {},
   "outputs": [],
   "source": []
  }
 ],
 "metadata": {
  "kernelspec": {
   "display_name": "Python 3",
   "language": "python",
   "name": "python3"
  },
  "language_info": {
   "codemirror_mode": {
    "name": "ipython",
    "version": 3
   },
   "file_extension": ".py",
   "mimetype": "text/x-python",
   "name": "python",
   "nbconvert_exporter": "python",
   "pygments_lexer": "ipython3",
   "version": "3.7.3"
  }
 },
 "nbformat": 4,
 "nbformat_minor": 2
}
